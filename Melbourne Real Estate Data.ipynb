{
 "cells": [
  {
   "cell_type": "code",
   "source": [
    "import pandas as pd\n",
    "melb_data = pd.read_csv('datasheets/melb_data.csv')\n",
    "melb_data.describe()\n",
    "melb_data.columns # Prints all columns"
   ],
   "execution_count": 1,
   "outputs": [
    {
     "data": {
      "text/plain": "Index(['Suburb', 'Address', 'Rooms', 'Type', 'Price', 'Method', 'SellerG',\n       'Date', 'Distance', 'Postcode', 'Bedroom2', 'Bathroom', 'Car',\n       'Landsize', 'BuildingArea', 'YearBuilt', 'CouncilArea', 'Lattitude',\n       'Longtitude', 'Regionname', 'Propertycount'],\n      dtype='object')"
     },
     "execution_count": 1,
     "metadata": {},
     "output_type": "execute_result"
    }
   ],
   "metadata": {}
  },
  {
   "cell_type": "code",
   "source": [
    "melb_data.dropna(axis=0) # Drops N/A (missing) values\n",
    "y = melb_data.Price # Prediction target.. convention to use y \n",
    "\n",
    "# Features for model\n",
    "melbourne_features = ['Rooms', 'Bathroom', 'Landsize', 'Lattitude', 'Longtitude']\n",
    "x = melb_data[melbourne_features]\n",
    "x.describe()"
   ],
   "execution_count": 2,
   "outputs": [
    {
     "data": {
      "text/plain": "              Rooms      Bathroom       Landsize     Lattitude    Longtitude\ncount  13580.000000  13580.000000   13580.000000  13580.000000  13580.000000\nmean       2.937997      1.534242     558.416127    -37.809203    144.995216\nstd        0.955748      0.691712    3990.669241      0.079260      0.103916\nmin        1.000000      0.000000       0.000000    -38.182550    144.431810\n25%        2.000000      1.000000     177.000000    -37.856822    144.929600\n50%        3.000000      1.000000     440.000000    -37.802355    145.000100\n75%        3.000000      2.000000     651.000000    -37.756400    145.058305\nmax       10.000000      8.000000  433014.000000    -37.408530    145.526350",
      "text/html": "<div>\n<style scoped>\n    .dataframe tbody tr th:only-of-type {\n        vertical-align: middle;\n    }\n\n    .dataframe tbody tr th {\n        vertical-align: top;\n    }\n\n    .dataframe thead th {\n        text-align: right;\n    }\n</style>\n<table border=\"1\" class=\"dataframe\">\n  <thead>\n    <tr style=\"text-align: right;\">\n      <th></th>\n      <th>Rooms</th>\n      <th>Bathroom</th>\n      <th>Landsize</th>\n      <th>Lattitude</th>\n      <th>Longtitude</th>\n    </tr>\n  </thead>\n  <tbody>\n    <tr>\n      <th>count</th>\n      <td>13580.000000</td>\n      <td>13580.000000</td>\n      <td>13580.000000</td>\n      <td>13580.000000</td>\n      <td>13580.000000</td>\n    </tr>\n    <tr>\n      <th>mean</th>\n      <td>2.937997</td>\n      <td>1.534242</td>\n      <td>558.416127</td>\n      <td>-37.809203</td>\n      <td>144.995216</td>\n    </tr>\n    <tr>\n      <th>std</th>\n      <td>0.955748</td>\n      <td>0.691712</td>\n      <td>3990.669241</td>\n      <td>0.079260</td>\n      <td>0.103916</td>\n    </tr>\n    <tr>\n      <th>min</th>\n      <td>1.000000</td>\n      <td>0.000000</td>\n      <td>0.000000</td>\n      <td>-38.182550</td>\n      <td>144.431810</td>\n    </tr>\n    <tr>\n      <th>25%</th>\n      <td>2.000000</td>\n      <td>1.000000</td>\n      <td>177.000000</td>\n      <td>-37.856822</td>\n      <td>144.929600</td>\n    </tr>\n    <tr>\n      <th>50%</th>\n      <td>3.000000</td>\n      <td>1.000000</td>\n      <td>440.000000</td>\n      <td>-37.802355</td>\n      <td>145.000100</td>\n    </tr>\n    <tr>\n      <th>75%</th>\n      <td>3.000000</td>\n      <td>2.000000</td>\n      <td>651.000000</td>\n      <td>-37.756400</td>\n      <td>145.058305</td>\n    </tr>\n    <tr>\n      <th>max</th>\n      <td>10.000000</td>\n      <td>8.000000</td>\n      <td>433014.000000</td>\n      <td>-37.408530</td>\n      <td>145.526350</td>\n    </tr>\n  </tbody>\n</table>\n</div>"
     },
     "execution_count": 2,
     "metadata": {},
     "output_type": "execute_result"
    }
   ],
   "metadata": {}
  },
  {
   "cell_type": "code",
   "source": [
    "x.head(8)"
   ],
   "execution_count": 3,
   "outputs": [
    {
     "data": {
      "text/plain": "   Rooms  Bathroom  Landsize  Lattitude  Longtitude\n0      2       1.0     202.0   -37.7996    144.9984\n1      2       1.0     156.0   -37.8079    144.9934\n2      3       2.0     134.0   -37.8093    144.9944\n3      3       2.0      94.0   -37.7969    144.9969\n4      4       1.0     120.0   -37.8072    144.9941\n5      2       1.0     181.0   -37.8041    144.9953\n6      3       2.0     245.0   -37.8024    144.9993\n7      2       1.0     256.0   -37.8060    144.9954",
      "text/html": "<div>\n<style scoped>\n    .dataframe tbody tr th:only-of-type {\n        vertical-align: middle;\n    }\n\n    .dataframe tbody tr th {\n        vertical-align: top;\n    }\n\n    .dataframe thead th {\n        text-align: right;\n    }\n</style>\n<table border=\"1\" class=\"dataframe\">\n  <thead>\n    <tr style=\"text-align: right;\">\n      <th></th>\n      <th>Rooms</th>\n      <th>Bathroom</th>\n      <th>Landsize</th>\n      <th>Lattitude</th>\n      <th>Longtitude</th>\n    </tr>\n  </thead>\n  <tbody>\n    <tr>\n      <th>0</th>\n      <td>2</td>\n      <td>1.0</td>\n      <td>202.0</td>\n      <td>-37.7996</td>\n      <td>144.9984</td>\n    </tr>\n    <tr>\n      <th>1</th>\n      <td>2</td>\n      <td>1.0</td>\n      <td>156.0</td>\n      <td>-37.8079</td>\n      <td>144.9934</td>\n    </tr>\n    <tr>\n      <th>2</th>\n      <td>3</td>\n      <td>2.0</td>\n      <td>134.0</td>\n      <td>-37.8093</td>\n      <td>144.9944</td>\n    </tr>\n    <tr>\n      <th>3</th>\n      <td>3</td>\n      <td>2.0</td>\n      <td>94.0</td>\n      <td>-37.7969</td>\n      <td>144.9969</td>\n    </tr>\n    <tr>\n      <th>4</th>\n      <td>4</td>\n      <td>1.0</td>\n      <td>120.0</td>\n      <td>-37.8072</td>\n      <td>144.9941</td>\n    </tr>\n    <tr>\n      <th>5</th>\n      <td>2</td>\n      <td>1.0</td>\n      <td>181.0</td>\n      <td>-37.8041</td>\n      <td>144.9953</td>\n    </tr>\n    <tr>\n      <th>6</th>\n      <td>3</td>\n      <td>2.0</td>\n      <td>245.0</td>\n      <td>-37.8024</td>\n      <td>144.9993</td>\n    </tr>\n    <tr>\n      <th>7</th>\n      <td>2</td>\n      <td>1.0</td>\n      <td>256.0</td>\n      <td>-37.8060</td>\n      <td>144.9954</td>\n    </tr>\n  </tbody>\n</table>\n</div>"
     },
     "execution_count": 3,
     "metadata": {},
     "output_type": "execute_result"
    }
   ],
   "metadata": {}
  },
  {
   "cell_type": "code",
   "source": [
    "\n",
    "# Import for model\n",
    "from sklearn.tree import DecisionTreeRegressor\n",
    "# Define model with random state for same result\n",
    "melbourne_model = DecisionTreeRegressor(random_state = 1)\n",
    "# Fit model for prediciton\n",
    "melbourne_model.fit(x, y)\n",
    "\n",
    "# Prediction for first 5 houses\n",
    "print(\"Making prediciton for these 5 house \")\n",
    "print(x.head())\n",
    "\n",
    "print(\"The price predicitons are: \")\n",
    "print(melbourne_model.predict(x.head()))"
   ],
   "execution_count": 4,
   "outputs": [
    {
     "name": "stdout",
     "output_type": "stream",
     "text": [
      "Making prediciton for these 5 house \n",
      "   Rooms  Bathroom  Landsize  Lattitude  Longtitude\n",
      "0      2       1.0     202.0   -37.7996    144.9984\n",
      "1      2       1.0     156.0   -37.8079    144.9934\n",
      "2      3       2.0     134.0   -37.8093    144.9944\n",
      "3      3       2.0      94.0   -37.7969    144.9969\n",
      "4      4       1.0     120.0   -37.8072    144.9941\n",
      "The price predicitons are: \n",
      "[1480000. 1035000. 1465000.  850000. 1600000.]\n"
     ]
    }
   ],
   "metadata": {}
  },
  {
   "cell_type": "code",
   "source": [
    "print(\"Predicted prices vs. Actual Prices: \")\n",
    "print(melbourne_model.predict(x.head()))\n",
    "print(y.head())"
   ],
   "execution_count": 5,
   "outputs": [
    {
     "name": "stdout",
     "output_type": "stream",
     "text": [
      "Predicted prices vs. Actual Prices: \n",
      "[1480000. 1035000. 1465000.  850000. 1600000.]\n",
      "0    1480000.0\n",
      "1    1035000.0\n",
      "2    1465000.0\n",
      "3     850000.0\n",
      "4    1600000.0\n",
      "Name: Price, dtype: float64\n"
     ]
    }
   ],
   "metadata": {}
  }
 ],
 "metadata": {
  "kernelspec": {
   "name": "python3",
   "language": "python",
   "display_name": "Python 3 (ipykernel)"
  }
 },
 "nbformat": 4,
 "nbformat_minor": 0
}